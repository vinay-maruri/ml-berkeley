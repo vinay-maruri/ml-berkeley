{
 "cells": [
  {
   "cell_type": "code",
   "execution_count": 8,
   "metadata": {},
   "outputs": [],
   "source": [
    "import sys \n",
    "if sys.version_info[0] < 3: \n",
    "    raise Exception(\"Python 3 not detected.\")\n",
    "import numpy as np \n",
    "import matplotlib.pyplot as plt \n",
    "from sklearn import svm \n",
    "from scipy import io\n",
    "\n",
    "spam_data = io.loadmat(\"data/%s_data.mat\" % \"spam\")\n",
    "\n",
    "#best C param in 5-fold cross-validation was 10. Default for SVC is 1.\n",
    "\n",
    "from sklearn.svm import SVC\n",
    "from sklearn.metrics import accuracy_score\n",
    "from sklearn.preprocessing import StandardScaler\n",
    "\n",
    "clf = SVC(kernel = 'linear', C = 10, gamma = 'scale', cache_size = 7000)\n",
    "def trainspam(indexset):\n",
    "    clf.fit(spam_training[indexset], spam_traininglabels[indexset])\n",
    "    prediction = clf.predict(spam_training[indexset])\n",
    "    print(accuracy_score(spam_traininglabels[indexset], prediction))\n",
    "\n",
    "spam_traininglabels = np.array(spam_data['training_labels']).reshape(-1,)\n",
    "\n",
    "spam_training = np.array(spam_data['training_data'])\n",
    "indices = np.arange(5172)\n",
    "np.random.shuffle(indices)\n",
    "s_scaler = StandardScaler()\n",
    "spam_training = s_scaler.fit_transform(spam_training)\n",
    "\n",
    "sizes = [100, 200, 500, 1000, 2000, 3500, 5172]\n",
    "\n",
    "for size in sizes:\n",
    "    lst = indices[0:size]\n",
    "    trainspam(lst)\n",
    "\n",
    "\n",
    "spam_test = np.array(spam_data['test_data'])\n",
    "spam_test = s_scaler.transform(spam_test)\n",
    "\n",
    "test_prediction = clf.predict(spam_test)\n",
    "\n",
    "import save_csv\n",
    "\n",
    "save_csv.results_to_csv(test_prediction)"
   ]
  },
  {
   "cell_type": "code",
   "execution_count": null,
   "metadata": {},
   "outputs": [],
   "source": []
  }
 ],
 "metadata": {
  "kernelspec": {
   "display_name": "Python 3",
   "language": "python",
   "name": "python3"
  },
  "language_info": {
   "codemirror_mode": {
    "name": "ipython",
    "version": 3
   },
   "file_extension": ".py",
   "mimetype": "text/x-python",
   "name": "python",
   "nbconvert_exporter": "python",
   "pygments_lexer": "ipython3",
   "version": "3.6.7"
  }
 },
 "nbformat": 4,
 "nbformat_minor": 2
}

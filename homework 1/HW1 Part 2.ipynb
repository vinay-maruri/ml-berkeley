{
 "cells": [
  {
   "cell_type": "markdown",
   "metadata": {},
   "source": [
    "$\\textbf{Question 5: K-fold Cross Validation}$"
   ]
  },
  {
   "cell_type": "code",
   "execution_count": 1,
   "metadata": {},
   "outputs": [],
   "source": [
    "import sys \n",
    "if sys.version_info[0] < 3: \n",
    "    raise Exception(\"Python 3 not detected.\")\n",
    "import numpy as np \n",
    "import matplotlib.pyplot as plt \n",
    "from sklearn import svm \n",
    "from scipy import io\n",
    "\n",
    "spam_data = io.loadmat(\"data/%s_data.mat\" % \"spam\")\n",
    "\n",
    "sindex = np.arange(5172)\n",
    "\n",
    "np.random.shuffle(sindex)\n",
    "\n",
    "#5172/5 = 1034.4\n",
    "\n",
    "set1 = sindex[0:1034]\n",
    "set2 = sindex[1034:2068]\n",
    "set3 = sindex[2068:3102]\n",
    "set4 = sindex[3102:4036]\n",
    "set5 = sindex[4036:]\n",
    "\n",
    "spam_data['training_data'] = np.array(spam_data['training_data'])\n",
    "\n",
    "spam_data['training_labels'] = np.array(spam_data['training_labels'])\n",
    "\n",
    "vset1 = spam_data['training_data'][set1]\n",
    "\n",
    "vset2 = spam_data['training_data'][set2]\n",
    "vset3 = spam_data['training_data'][set3]\n",
    "vset4 = spam_data['training_data'][set4]\n",
    "vset5 = spam_data['training_data'][set5]\n",
    "\n",
    "vlabel1 = spam_data['training_labels'][set1].reshape(-1,)\n",
    "vlabel2 = spam_data['training_labels'][set2].reshape(-1,)\n",
    "vlabel3 = spam_data['training_labels'][set3].reshape(-1,)\n",
    "vlabel4 = spam_data['training_labels'][set4].reshape(-1,)\n",
    "vlabel5 = spam_data['training_labels'][set5].reshape(-1,)\n",
    "\n",
    "C_params = [1/1000000000, 1/100000000, 1/10000000, 1/100000, 1/10000, 1/1000, 1/100, 1/10, 1, 10, 100]\n",
    "#list of C params being tested\n",
    "\n",
    "from sklearn.svm import SVC\n",
    "\n",
    "from sklearn.metrics import accuracy_score\n",
    "\n",
    "vacc1 = []\n",
    "vacc2 = []\n",
    "vacc3 = []\n",
    "vacc4 = []\n",
    "vacc5 = []\n",
    "\n",
    "for c in C_params:\n",
    "    clf = SVC(kernel = 'linear', C = c)\n",
    "    clf.fit(vset1, vlabel1)\n",
    "    clf.fit(vset2, vlabel2)\n",
    "    clf.fit(vset3, vlabel3)\n",
    "    clf.fit(vset4, vlabel4)\n",
    "    predictions = clf.predict(vset5)\n",
    "    vacc5.append(accuracy_score(vlabel5, predictions))"
   ]
  },
  {
   "cell_type": "code",
   "execution_count": 19,
   "metadata": {},
   "outputs": [],
   "source": [
    "for c in C_params:\n",
    "    clf = SVC(kernel = 'linear', C = c)\n",
    "    clf.fit(vset2, vlabel2)\n",
    "    clf.fit(vset3, vlabel3)\n",
    "    clf.fit(vset4, vlabel4)\n",
    "    clf.fit(vset5, vlabel5)\n",
    "    predictions = clf.predict(vset1)\n",
    "    vacc1.append(accuracy_score(vlabel1, predictions))"
   ]
  },
  {
   "cell_type": "code",
   "execution_count": 20,
   "metadata": {},
   "outputs": [],
   "source": [
    "for c in C_params:\n",
    "    clf = SVC(kernel = 'linear', C = c)\n",
    "    clf.fit(vset3, vlabel3)\n",
    "    clf.fit(vset4, vlabel4)\n",
    "    clf.fit(vset5, vlabel5)\n",
    "    clf.fit(vset1, vlabel1)\n",
    "    predictions = clf.predict(vset2)\n",
    "    vacc2.append(accuracy_score(vlabel2, predictions))"
   ]
  },
  {
   "cell_type": "code",
   "execution_count": 21,
   "metadata": {},
   "outputs": [],
   "source": [
    "for c in C_params:\n",
    "    clf = SVC(kernel = 'linear', C = c)\n",
    "    clf.fit(vset1, vlabel1)\n",
    "    clf.fit(vset2, vlabel2)\n",
    "    clf.fit(vset4, vlabel4)\n",
    "    clf.fit(vset5, vlabel5)\n",
    "    predictions = clf.predict(vset3)\n",
    "    vacc3.append(accuracy_score(vlabel3, predictions))"
   ]
  },
  {
   "cell_type": "code",
   "execution_count": 22,
   "metadata": {},
   "outputs": [],
   "source": [
    "for c in C_params:\n",
    "    clf = SVC(kernel = 'linear', C = c)\n",
    "    clf.fit(vset1, vlabel1)\n",
    "    clf.fit(vset2, vlabel2)\n",
    "    clf.fit(vset3, vlabel3)\n",
    "    clf.fit(vset5, vlabel5)\n",
    "    predictions = clf.predict(vset4)\n",
    "    vacc4.append(accuracy_score(vlabel4, predictions))"
   ]
  },
  {
   "cell_type": "code",
   "execution_count": 28,
   "metadata": {},
   "outputs": [],
   "source": [
    "results = {}"
   ]
  },
  {
   "cell_type": "code",
   "execution_count": 29,
   "metadata": {},
   "outputs": [
    {
     "name": "stdout",
     "output_type": "stream",
     "text": [
      "1e-09\n",
      "1e-08\n",
      "1e-07\n",
      "1e-05\n",
      "0.0001\n",
      "0.001\n",
      "0.01\n",
      "0.1\n",
      "1\n",
      "10\n",
      "100\n"
     ]
    }
   ],
   "source": [
    "i = 0\n",
    "while i < 11:\n",
    "    templst = []\n",
    "    templst.append(vacc1[i])\n",
    "    templst.append(vacc2[i])\n",
    "    templst.append(vacc3[i])\n",
    "    templst.append(vacc4[i])\n",
    "    templst.append(vacc5[i])\n",
    "    results[C_params[i]] = templst\n",
    "    i = i+1"
   ]
  },
  {
   "cell_type": "code",
   "execution_count": 35,
   "metadata": {},
   "outputs": [],
   "source": [
    "keys = results.keys()"
   ]
  },
  {
   "cell_type": "code",
   "execution_count": 36,
   "metadata": {},
   "outputs": [],
   "source": [
    "avgs = []\n",
    "for key in keys:\n",
    "    avgs.append(np.average(results[key]))"
   ]
  },
  {
   "cell_type": "code",
   "execution_count": 37,
   "metadata": {},
   "outputs": [
    {
     "data": {
      "text/plain": [
       "[0.710224783981537,\n",
       " 0.710224783981537,\n",
       " 0.710224783981537,\n",
       " 0.710224783981537,\n",
       " 0.7109984783722527,\n",
       " 0.7324030815470317,\n",
       " 0.7681882263557196,\n",
       " 0.7933279789447882,\n",
       " 0.8014197196982483,\n",
       " 0.8058918557797441,\n",
       " 0.8035333539180485]"
      ]
     },
     "execution_count": 37,
     "metadata": {},
     "output_type": "execute_result"
    }
   ],
   "source": [
    "print(avgs)"
   ]
  },
  {
   "cell_type": "code",
   "execution_count": 38,
   "metadata": {},
   "outputs": [],
   "source": [
    "#best c value on average appears to be 10. (for spam)"
   ]
  }
 ],
 "metadata": {
  "kernelspec": {
   "display_name": "Python 3",
   "language": "python",
   "name": "python3"
  },
  "language_info": {
   "codemirror_mode": {
    "name": "ipython",
    "version": 3
   },
   "file_extension": ".py",
   "mimetype": "text/x-python",
   "name": "python",
   "nbconvert_exporter": "python",
   "pygments_lexer": "ipython3",
   "version": "3.6.7"
  }
 },
 "nbformat": 4,
 "nbformat_minor": 2
}

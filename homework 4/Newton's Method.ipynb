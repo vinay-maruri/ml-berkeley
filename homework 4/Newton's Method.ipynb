{
 "cells": [
  {
   "cell_type": "code",
   "execution_count": 1,
   "metadata": {},
   "outputs": [],
   "source": [
    "import numpy as np\n",
    "import pandas as pd"
   ]
  },
  {
   "cell_type": "code",
   "execution_count": 2,
   "metadata": {},
   "outputs": [],
   "source": [
    "w = np.transpose([-2, 1, 0])\n",
    "#weight matrix"
   ]
  },
  {
   "cell_type": "code",
   "execution_count": 3,
   "metadata": {},
   "outputs": [],
   "source": [
    "lam = 0.07\n",
    "#regularization constant"
   ]
  },
  {
   "cell_type": "code",
   "execution_count": 4,
   "metadata": {},
   "outputs": [],
   "source": [
    "y = np.transpose([1, 1, 0, 0])\n",
    "#class labels"
   ]
  },
  {
   "cell_type": "code",
   "execution_count": 5,
   "metadata": {},
   "outputs": [],
   "source": [
    "X = np.array([[0, 3, 1], [1, 3, 1], [0, 1, 1], [1, 1, 1]])\n",
    "#sample points"
   ]
  },
  {
   "cell_type": "code",
   "execution_count": 6,
   "metadata": {},
   "outputs": [],
   "source": [
    "diags = np.array([(X[0] @ w) * (1 - (X[0] @ w)), (X[1] @ w) * (1 - (X[1] @ w)), (X[2] @ w) * (1 - (X[2] @ w)), (X[3] @ w) * (1 - (X[3] @ w))])\n",
    "omega = np.diag(diags)\n",
    "#diagonal matrix omega"
   ]
  },
  {
   "cell_type": "code",
   "execution_count": 7,
   "metadata": {},
   "outputs": [
    {
     "data": {
      "text/plain": [
       "array([[-6,  0,  0,  0],\n",
       "       [ 0,  0,  0,  0],\n",
       "       [ 0,  0,  0,  0],\n",
       "       [ 0,  0,  0, -2]])"
      ]
     },
     "execution_count": 7,
     "metadata": {},
     "output_type": "execute_result"
    }
   ],
   "source": [
    "omega"
   ]
  },
  {
   "cell_type": "code",
   "execution_count": 8,
   "metadata": {},
   "outputs": [
    {
     "data": {
      "text/plain": [
       "array([-6,  0,  0, -2])"
      ]
     },
     "execution_count": 8,
     "metadata": {},
     "output_type": "execute_result"
    }
   ],
   "source": [
    "diags"
   ]
  },
  {
   "cell_type": "code",
   "execution_count": 16,
   "metadata": {},
   "outputs": [
    {
     "data": {
      "text/plain": [
       "array([ 3,  1,  1, -1])"
      ]
     },
     "execution_count": 16,
     "metadata": {},
     "output_type": "execute_result"
    }
   ],
   "source": [
    "s = np.array([X[0] @ w, X[1] @ w, X[2] @ w, X[3] @ w])\n",
    "s\n",
    "#initial s vector"
   ]
  },
  {
   "cell_type": "code",
   "execution_count": 11,
   "metadata": {},
   "outputs": [],
   "source": [
    "import math\n",
    "for i in range(len(s)):\n",
    "    s[i] = 1/(1 + math.exp(-s[i]))"
   ]
  },
  {
   "cell_type": "code",
   "execution_count": 15,
   "metadata": {},
   "outputs": [
    {
     "data": {
      "text/plain": [
       "0.9525741268224334"
      ]
     },
     "execution_count": 15,
     "metadata": {},
     "output_type": "execute_result"
    }
   ],
   "source": [
    "1/(1 + math.exp(-3))"
   ]
  },
  {
   "cell_type": "code",
   "execution_count": 17,
   "metadata": {},
   "outputs": [
    {
     "data": {
      "text/plain": [
       "0.7310585786300049"
      ]
     },
     "execution_count": 17,
     "metadata": {},
     "output_type": "execute_result"
    }
   ],
   "source": [
    "1/(1 + math.exp(-1))"
   ]
  },
  {
   "cell_type": "code",
   "execution_count": 18,
   "metadata": {},
   "outputs": [
    {
     "data": {
      "text/plain": [
       "0.2689414213699951"
      ]
     },
     "execution_count": 18,
     "metadata": {},
     "output_type": "execute_result"
    }
   ],
   "source": [
    "1/(1 + math.exp(1))"
   ]
  },
  {
   "cell_type": "code",
   "execution_count": 21,
   "metadata": {},
   "outputs": [],
   "source": [
    "s = [0.9525741268224334, 0.7310585786300049, 0.7310585786300049, 0.2689414213699951]"
   ]
  },
  {
   "cell_type": "code",
   "execution_count": 22,
   "metadata": {},
   "outputs": [
    {
     "data": {
      "text/plain": [
       "array([-1.61462387e+15, -8.07311933e+14,  2.42193580e+15])"
      ]
     },
     "execution_count": 22,
     "metadata": {},
     "output_type": "execute_result"
    }
   ],
   "source": [
    "np.linalg.inv(2*lam + (np.transpose(X) @ omega @ X)) @ (-2*lam*w + (np.transpose(X) @ (y - s)))"
   ]
  },
  {
   "cell_type": "code",
   "execution_count": 25,
   "metadata": {},
   "outputs": [
    {
     "data": {
      "text/plain": [
       "array([  20.32453055, -222.43425949,  230.98642894])"
      ]
     },
     "execution_count": 25,
     "metadata": {},
     "output_type": "execute_result"
    }
   ],
   "source": [
    "np.linalg.solve(2*lam + (np.transpose(X) @ omega @ X), -2*lam*w + (np.transpose(X) @ (y - s)))"
   ]
  },
  {
   "cell_type": "code",
   "execution_count": 24,
   "metadata": {},
   "outputs": [
    {
     "name": "stdout",
     "output_type": "stream",
     "text": [
      "E:\n",
      "[-0.20185686  0.04840402 -0.11843656]\n",
      "W:\n",
      "[-2.20185686  1.04840402 -0.11843656]\n",
      "S:\n",
      "[0.0462308  0.30472057 0.28293132 0.78106601]\n",
      "Omega: \n",
      "[[0.04409351 0.         0.         0.        ]\n",
      " [0.         0.21186594 0.         0.        ]\n",
      " [0.         0.         0.20288119 0.        ]\n",
      " [0.         0.         0.         0.1710019 ]]\n",
      "E:\n",
      "[ 7.05185265 -5.29635423  3.2902904 ]\n",
      "W:\n",
      "[ 4.84999579 -4.2479502   3.17185383]\n",
      "S:\n",
      "[0.99993035 0.99118111 0.74575455 0.02244691]\n",
      "Omega: \n",
      "[[6.96424628e-05 0.00000000e+00 0.00000000e+00 0.00000000e+00]\n",
      " [0.00000000e+00 8.74111949e-03 0.00000000e+00 0.00000000e+00]\n",
      " [0.00000000e+00 0.00000000e+00 1.89604703e-01 0.00000000e+00]\n",
      " [0.00000000e+00 0.00000000e+00 0.00000000e+00 2.19430508e-02]]\n",
      "E:\n",
      "[-12.37695809  32.53661262 -27.39046113]\n",
      "W:\n",
      "[ -7.5269623   28.28866242 -24.21860729]\n"
     ]
    },
    {
     "name": "stderr",
     "output_type": "stream",
     "text": [
      "C:\\Users\\EndlessWormhole\\Anaconda3\\lib\\site-packages\\ipykernel_launcher.py:13: FutureWarning: `rcond` parameter will change to the default of machine precision times ``max(M, N)`` where M and N are the input matrix dimensions.\n",
      "To use the future default and silence this warning we advise to pass `rcond=None`, to keep using the old, explicitly pass `rcond=-1`.\n",
      "  del sys.path[0]\n",
      "C:\\Users\\EndlessWormhole\\Anaconda3\\lib\\site-packages\\ipykernel_launcher.py:11: FutureWarning: `rcond` parameter will change to the default of machine precision times ``max(M, N)`` where M and N are the input matrix dimensions.\n",
      "To use the future default and silence this warning we advise to pass `rcond=None`, to keep using the old, explicitly pass `rcond=-1`.\n",
      "  # This is added back by InteractiveShellApp.init_path()\n"
     ]
    }
   ],
   "source": [
    "i = 0\n",
    "while i < 3:\n",
    "    if (i != 0):\n",
    "        s = np.array([1/(1+math.exp(np.matmul(X[0], w))), 1/(1+math.exp(np.matmul(X[1], w))), 1/(1+math.exp(np.matmul(X[2], w))), 1/(1+math.exp(np.matmul(X[3], w)))])\n",
    "        print(\"S:\")\n",
    "        print(s)\n",
    "        diags = np.array([s[0] * (1 - s[0]), s[1] * (1 - s[1]), s[2] * (1 - s[2]), s[3] * (1 - s[3])])\n",
    "        omega = np.diag(diags)\n",
    "        print(\"Omega: \")\n",
    "        print(omega)\n",
    "        e = np.linalg.lstsq(2*lam + (np.matmul(np.matmul(np.transpose(X), omega), X)), -2*lam*w - np.matmul(np.transpose(X), y) + np.matmul(np.transpose(X), s))[0]\n",
    "    else:\n",
    "        e = np.linalg.lstsq(2*lam + (np.matmul(np.matmul(np.transpose(X), omega), X)), -2*lam*w - np.matmul(np.transpose(X), y) + np.matmul(np.transpose(X), s))[0]\n",
    "    print(\"E:\")\n",
    "    print(e)\n",
    "    w = w + e\n",
    "    print(\"W:\")\n",
    "    print(w)\n",
    "    i += 1"
   ]
  },
  {
   "cell_type": "code",
   "execution_count": null,
   "metadata": {},
   "outputs": [],
   "source": []
  }
 ],
 "metadata": {
  "kernelspec": {
   "display_name": "Python 3",
   "language": "python",
   "name": "python3"
  },
  "language_info": {
   "codemirror_mode": {
    "name": "ipython",
    "version": 3
   },
   "file_extension": ".py",
   "mimetype": "text/x-python",
   "name": "python",
   "nbconvert_exporter": "python",
   "pygments_lexer": "ipython3",
   "version": "3.7.1"
  }
 },
 "nbformat": 4,
 "nbformat_minor": 2
}

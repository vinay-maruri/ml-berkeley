{
 "cells": [
  {
   "cell_type": "code",
   "execution_count": 1,
   "metadata": {},
   "outputs": [],
   "source": [
    "import sys\n",
    "import numpy as np\n",
    "import pandas as pd\n",
    "import matplotlib.pyplot as plt\n",
    "from scipy import io\n",
    "wine_data = io.loadmat(\"data.mat\")\n",
    "#load the data and import relevant packages."
   ]
  },
  {
   "cell_type": "code",
   "execution_count": 2,
   "metadata": {},
   "outputs": [],
   "source": [
    "#split up the data into training data, training labels, and test data.\n",
    "x_train = wine_data['X']\n",
    "y_train = wine_data['y']\n",
    "x_test = wine_data['X_test']"
   ]
  },
  {
   "cell_type": "code",
   "execution_count": 3,
   "metadata": {},
   "outputs": [],
   "source": [
    "x_train = np.hstack((x_train, np.ones((6000, 1))))"
   ]
  },
  {
   "cell_type": "code",
   "execution_count": 4,
   "metadata": {
    "scrolled": true
   },
   "outputs": [],
   "source": [
    "#part (1)\n",
    "#batch gradient descent algorithm\n",
    "epsilon = -0.0000001\n",
    "lamb = 0.000001\n",
    "correction = 0.99"
   ]
  },
  {
   "cell_type": "code",
   "execution_count": 5,
   "metadata": {},
   "outputs": [],
   "source": [
    "iterlst = [100, 500, 1000, 2000, 5000, 10000]"
   ]
  },
  {
   "cell_type": "code",
   "execution_count": 6,
   "metadata": {},
   "outputs": [],
   "source": [
    "def logistic(item):\n",
    "    return 1/(1 + np.exp(-item))\n",
    "logistic = np.vectorize(logistic)"
   ]
  },
  {
   "cell_type": "code",
   "execution_count": 7,
   "metadata": {},
   "outputs": [],
   "source": [
    "def batch_alg(x, y):\n",
    "    wlst = []\n",
    "    w = np.ndarray((13, 1))\n",
    "    w.fill(0)\n",
    "    i = 0\n",
    "    while i < 10001:\n",
    "        if i in iterlst:\n",
    "            wlst.append(w)\n",
    "        dotprod = np.matmul(x, w)\n",
    "        dotprod = logistic(dotprod)\n",
    "        gradient = np.subtract(2*lamb*w, np.matmul(np.transpose(x), (y - dotprod)))\n",
    "        w = w + epsilon*gradient\n",
    "        i += 1\n",
    "    return wlst"
   ]
  },
  {
   "cell_type": "code",
   "execution_count": 8,
   "metadata": {},
   "outputs": [],
   "source": [
    "weight_results = batch_alg(x_train, y_train)"
   ]
  },
  {
   "cell_type": "code",
   "execution_count": 9,
   "metadata": {},
   "outputs": [],
   "source": [
    "def batch_cost_fn(w, x, y):\n",
    "    sum_of_squares = lamb * sum([x**2 for x in w])\n",
    "    summation_1 = sum([y[i]*np.log(logistic(np.dot(x[i], w))) for i in range(len(x)) if logistic(np.dot(x[i], w)) > 0])\n",
    "    summation_2 = sum([(1 - y[z])*np.log(1- logistic(np.dot(x[z], w))) for z in range(len(x)) if (1 - logistic(np.dot(x[z], w))) > 0])\n",
    "    return sum_of_squares - (summation_1 + summation_2)"
   ]
  },
  {
   "cell_type": "code",
   "execution_count": 10,
   "metadata": {},
   "outputs": [],
   "source": [
    "res1 = batch_cost_fn(weight_results[0], x_train, y_train)"
   ]
  },
  {
   "cell_type": "code",
   "execution_count": 11,
   "metadata": {},
   "outputs": [],
   "source": [
    "res2 = batch_cost_fn(weight_results[1], x_train, y_train)"
   ]
  },
  {
   "cell_type": "code",
   "execution_count": 12,
   "metadata": {},
   "outputs": [],
   "source": [
    "res3 = batch_cost_fn(weight_results[2], x_train, y_train)"
   ]
  },
  {
   "cell_type": "code",
   "execution_count": 13,
   "metadata": {},
   "outputs": [],
   "source": [
    "res4 = batch_cost_fn(weight_results[3], x_train, y_train)"
   ]
  },
  {
   "cell_type": "code",
   "execution_count": 14,
   "metadata": {},
   "outputs": [],
   "source": [
    "res5 = batch_cost_fn(weight_results[4], x_train, y_train)"
   ]
  },
  {
   "cell_type": "code",
   "execution_count": 15,
   "metadata": {},
   "outputs": [],
   "source": [
    "res6 = batch_cost_fn(weight_results[5], x_train, y_train)"
   ]
  },
  {
   "cell_type": "code",
   "execution_count": 16,
   "metadata": {},
   "outputs": [],
   "source": [
    "results = [res1, res2, res3, res4, res5, res6]\n",
    "results = [y[0] for y in results]"
   ]
  },
  {
   "cell_type": "code",
   "execution_count": 17,
   "metadata": {
    "scrolled": true
   },
   "outputs": [
    {
     "data": {
      "text/plain": [
       "Text(0.5, 0, 'Iteration Size')"
      ]
     },
     "execution_count": 17,
     "metadata": {},
     "output_type": "execute_result"
    },
    {
     "data": {
      "image/png": "[encoded data removed]",
      "text/plain": [
       "<Figure size 432x288 with 1 Axes>"
      ]
     },
     "metadata": {
      "needs_background": "light"
     },
     "output_type": "display_data"
    }
   ],
   "source": [
    "plt.plot(iterlst, results)\n",
    "plt.ylabel('Costs')\n",
    "plt.xlabel('Iteration Size')"
   ]
  },
  {
   "cell_type": "code",
   "execution_count": 18,
   "metadata": {},
   "outputs": [],
   "source": [
    "#part (2) \n",
    "#stochastic gradient algorithm"
   ]
  },
  {
   "cell_type": "code",
   "execution_count": 19,
   "metadata": {},
   "outputs": [],
   "source": [
    "def stoch_alg(x, y):\n",
    "    wlst = []\n",
    "    w = np.ndarray((13, 1))\n",
    "    w.fill(0)\n",
    "    i = 0\n",
    "    while i < 10001:\n",
    "        if i in iterlst:\n",
    "            wlst.append(w)\n",
    "        ran = np.random.choice(np.arange(len(x)))\n",
    "        ran_x = np.reshape(x[ran], (1, 13))\n",
    "        ran_y = y[ran]\n",
    "        dotprod = np.matmul(ran_x, w)\n",
    "        dotprod = logistic(dotprod)\n",
    "        gradient = np.subtract(2*lamb*w, np.matmul(np.transpose(ran_x), (ran_y - dotprod)))\n",
    "        w = w + epsilon*gradient\n",
    "        i += 1\n",
    "    return wlst "
   ]
  },
  {
   "cell_type": "code",
   "execution_count": 20,
   "metadata": {},
   "outputs": [],
   "source": [
    "stochresults = stoch_alg(x_train, y_train)"
   ]
  },
  {
   "cell_type": "code",
   "execution_count": 21,
   "metadata": {},
   "outputs": [],
   "source": [
    "sres1 = batch_cost_fn(stochresults[0], x_train, y_train)"
   ]
  },
  {
   "cell_type": "code",
   "execution_count": 22,
   "metadata": {},
   "outputs": [],
   "source": [
    "sres2 = batch_cost_fn(stochresults[1], x_train, y_train)"
   ]
  },
  {
   "cell_type": "code",
   "execution_count": 23,
   "metadata": {},
   "outputs": [],
   "source": [
    "sres3 = batch_cost_fn(stochresults[2], x_train, y_train)"
   ]
  },
  {
   "cell_type": "code",
   "execution_count": 24,
   "metadata": {},
   "outputs": [],
   "source": [
    "sres4 = batch_cost_fn(stochresults[3], x_train, y_train)"
   ]
  },
  {
   "cell_type": "code",
   "execution_count": 25,
   "metadata": {},
   "outputs": [],
   "source": [
    "sres5 = batch_cost_fn(stochresults[4], x_train, y_train)"
   ]
  },
  {
   "cell_type": "code",
   "execution_count": 26,
   "metadata": {},
   "outputs": [],
   "source": [
    "sres6 = batch_cost_fn(stochresults[5], x_train, y_train)"
   ]
  },
  {
   "cell_type": "code",
   "execution_count": 27,
   "metadata": {},
   "outputs": [],
   "source": [
    "sress = [sres1, sres2, sres3, sres4, sres5, sres6]\n",
    "sress = [x[0] for x in sress]"
   ]
  },
  {
   "cell_type": "code",
   "execution_count": 28,
   "metadata": {},
   "outputs": [
    {
     "data": {
      "text/plain": [
       "Text(0, 0.5, 'Cost')"
      ]
     },
     "execution_count": 28,
     "metadata": {},
     "output_type": "execute_result"
    },
    {
     "data": {
      "image/png": "[encoded data removed]",
      "text/plain": [
       "<Figure size 432x288 with 1 Axes>"
      ]
     },
     "metadata": {
      "needs_background": "light"
     },
     "output_type": "display_data"
    }
   ],
   "source": [
    "plt.plot(iterlst, sress)\n",
    "plt.xlabel('Iteration Size')\n",
    "plt.ylabel('Cost')"
   ]
  },
  {
   "cell_type": "markdown",
   "metadata": {},
   "source": [
    "It appears that batch gradient descent is less costly than stochastic gradient descent. This makes sense since the batch method considers every point in each iteration and is more accurate than selecting a random point and hoping that it keeps moving down the convex cost function as you have to assume in stochastic gradient descent. While the batch method is more accurate, it is computationally more expensive than stochastic gradient descent, since in the stochastic method, there are less computations involved since you are computing all gradients and matrix multiplications with respect to 1 point instead of 6000 points. "
   ]
  },
  {
   "cell_type": "code",
   "execution_count": 29,
   "metadata": {},
   "outputs": [],
   "source": [
    "#part (3)\n",
    "#variable learning rate for stochastic gradient descent\n",
    "def var_stoch_alg(x, y):\n",
    "    temp = epsilon\n",
    "    wlst = []\n",
    "    w = np.ndarray((13, 1))\n",
    "    w.fill(0)\n",
    "    i = 0\n",
    "    while i < 10001:\n",
    "        if i in iterlst:\n",
    "            wlst.append(w)\n",
    "            temp = temp - (1/i)\n",
    "        ran = np.random.choice(np.arange(len(x)))\n",
    "        ran_x = np.reshape(x[ran], (1, 13))\n",
    "        ran_y = y[ran]\n",
    "        dotprod = np.matmul(ran_x, w)\n",
    "        dotprod = logistic(dotprod)\n",
    "        gradient = np.subtract(2*lamb*w, np.matmul(np.transpose(ran_x), (ran_y - dotprod)))\n",
    "        w = w + temp*gradient\n",
    "        i += 1\n",
    "    return wlst "
   ]
  },
  {
   "cell_type": "code",
   "execution_count": 30,
   "metadata": {},
   "outputs": [],
   "source": [
    "varstochresults = var_stoch_alg(x_train, y_train)"
   ]
  },
  {
   "cell_type": "code",
   "execution_count": 31,
   "metadata": {},
   "outputs": [],
   "source": [
    "varres1 = batch_cost_fn(varstochresults[0], x_train, y_train)\n",
    "varres2 = batch_cost_fn(varstochresults[1], x_train, y_train)\n",
    "varres3 = batch_cost_fn(varstochresults[2], x_train, y_train)\n",
    "varres4 = batch_cost_fn(varstochresults[3], x_train, y_train)\n",
    "varres5 = batch_cost_fn(varstochresults[4], x_train, y_train)\n",
    "varres6 = batch_cost_fn(varstochresults[5], x_train, y_train)"
   ]
  },
  {
   "cell_type": "code",
   "execution_count": 32,
   "metadata": {},
   "outputs": [
    {
     "data": {
      "text/plain": [
       "Text(0, 0.5, 'Cost')"
      ]
     },
     "execution_count": 32,
     "metadata": {},
     "output_type": "execute_result"
    },
    {
     "data": {
      "image/png": "[encoded data removed]",
      "text/plain": [
       "<Figure size 432x288 with 1 Axes>"
      ]
     },
     "metadata": {
      "needs_background": "light"
     },
     "output_type": "display_data"
    }
   ],
   "source": [
    "varress = [varres1, varres2, varres3, varres4, varres5, varres6]\n",
    "varress = [x[0] for x in varress]\n",
    "plt.plot(iterlst, varress)\n",
    "plt.xlabel('Iteration Size')\n",
    "plt.ylabel('Cost')"
   ]
  },
  {
   "cell_type": "markdown",
   "metadata": {},
   "source": [
    "In this case, variable learning rate is worse than having a constant learning rate. "
   ]
  },
  {
   "cell_type": "code",
   "execution_count": 33,
   "metadata": {},
   "outputs": [],
   "source": [
    "#part (d)\n",
    "#kaggle submission\n",
    "#we use batch gradient descent since this performed better than our stochastic model."
   ]
  },
  {
   "cell_type": "code",
   "execution_count": 34,
   "metadata": {},
   "outputs": [],
   "source": [
    "x_test = np.hstack((x_test, np.ones((497, 1))))"
   ]
  },
  {
   "cell_type": "code",
   "execution_count": 38,
   "metadata": {
    "scrolled": true
   },
   "outputs": [],
   "source": [
    "#we use results[5] as our weight vector since this produced the best result.\n",
    "def test_batch(test):\n",
    "    dotprod = np.matmul(x_test, weight_results[5])\n",
    "    dotprod = logistic(dotprod)\n",
    "    return dotprod"
   ]
  },
  {
   "cell_type": "code",
   "execution_count": 43,
   "metadata": {},
   "outputs": [],
   "source": [
    "kaggle_results = test_batch(x_test)"
   ]
  },
  {
   "cell_type": "code",
   "execution_count": 47,
   "metadata": {},
   "outputs": [],
   "source": [
    "lst_to_submit = []\n",
    "for y in kaggle_results:\n",
    "    if y > 0.5:\n",
    "        lst_to_submit.append(1)\n",
    "    else:\n",
    "        lst_to_submit.append(0)"
   ]
  },
  {
   "cell_type": "code",
   "execution_count": 49,
   "metadata": {},
   "outputs": [
    {
     "data": {
      "text/plain": [
       "497"
      ]
     },
     "execution_count": 49,
     "metadata": {},
     "output_type": "execute_result"
    }
   ],
   "source": [
    "len(lst_to_submit)"
   ]
  },
  {
   "cell_type": "code",
   "execution_count": 50,
   "metadata": {},
   "outputs": [],
   "source": [
    "from save_csv import results_to_csv"
   ]
  },
  {
   "cell_type": "code",
   "execution_count": 52,
   "metadata": {},
   "outputs": [],
   "source": [
    "results_to_csv(np.array(lst_to_submit))"
   ]
  }
 ],
 "metadata": {
  "kernelspec": {
   "display_name": "Python 3",
   "language": "python",
   "name": "python3"
  },
  "language_info": {
   "codemirror_mode": {
    "name": "ipython",
    "version": 3
   },
   "file_extension": ".py",
   "mimetype": "text/x-python",
   "name": "python",
   "nbconvert_exporter": "python",
   "pygments_lexer": "ipython3",
   "version": "3.7.1"
  }
 },
 "nbformat": 4,
 "nbformat_minor": 2
}

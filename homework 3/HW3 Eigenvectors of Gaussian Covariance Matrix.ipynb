{
 "cells": [
  {
   "cell_type": "code",
   "execution_count": 1,
   "metadata": {},
   "outputs": [],
   "source": [
    "import numpy as np\n",
    "import matplotlib.pyplot as plt"
   ]
  },
  {
   "cell_type": "code",
   "execution_count": 2,
   "metadata": {},
   "outputs": [
    {
     "data": {
      "text/plain": [
       "(1.7012325212518036, 3.985641868266835)"
      ]
     },
     "execution_count": 2,
     "metadata": {},
     "output_type": "execute_result"
    }
   ],
   "source": [
    "np.random.seed(12)\n",
    "#seed is 42.\n",
    "\n",
    "x1 = np.random.normal(3, 9, 100)\n",
    "#generating the first normal RV\n",
    "\n",
    "x2 = (0.5 * x1) + np.random.normal(4, 4, 100)\n",
    "#generating the second normal RV\n",
    "\n",
    "merged_x1_x2 = np.column_stack((x1, x2))\n",
    "#created the merged 2d set of points from x1 and x2\n",
    "\n",
    "#part (a) compute mean in R^2 of the sample\n",
    "\n",
    "firstelems = [merged_x1_x2[i][0] for i in range(len(merged_x1_x2))]\n",
    "secondelems = [merged_x1_x2[i][1] for i in range(len(merged_x1_x2))]\n",
    "\n",
    "meanr2 = (np.mean(firstelems), np.mean(secondelems))\n",
    "\n",
    "meanr2\n",
    "#this is the mean"
   ]
  },
  {
   "cell_type": "code",
   "execution_count": 3,
   "metadata": {},
   "outputs": [],
   "source": [
    "#part (b) compute the 2x2 covariance matrix of the sample\n",
    "\n",
    "covariance_matrix = np.cov(merged_x1_x2, rowvar = False)"
   ]
  },
  {
   "cell_type": "code",
   "execution_count": 4,
   "metadata": {},
   "outputs": [
    {
     "name": "stdout",
     "output_type": "stream",
     "text": [
      "[[89.51010777 40.16868947]\n",
      " [40.16868947 34.81704039]]\n"
     ]
    }
   ],
   "source": [
    "print(covariance_matrix)"
   ]
  },
  {
   "cell_type": "code",
   "execution_count": 5,
   "metadata": {},
   "outputs": [],
   "source": [
    "#part (c) compute the eigenvectors and eigenvalues of this covariance matrix "
   ]
  },
  {
   "cell_type": "code",
   "execution_count": 6,
   "metadata": {},
   "outputs": [],
   "source": [
    "eigenvalues, eigenvectors = np.linalg.eig(covariance_matrix)"
   ]
  },
  {
   "cell_type": "code",
   "execution_count": 7,
   "metadata": {},
   "outputs": [
    {
     "data": {
      "text/plain": [
       "array([110.75736503,  13.56978313])"
      ]
     },
     "execution_count": 7,
     "metadata": {},
     "output_type": "execute_result"
    }
   ],
   "source": [
    "eigenvalues"
   ]
  },
  {
   "cell_type": "code",
   "execution_count": 8,
   "metadata": {},
   "outputs": [
    {
     "data": {
      "text/plain": [
       "array([[ 0.88395638, -0.46756937],\n",
       "       [ 0.46756937,  0.88395638]])"
      ]
     },
     "execution_count": 8,
     "metadata": {},
     "output_type": "execute_result"
    }
   ],
   "source": [
    "eigenvectors"
   ]
  },
  {
   "cell_type": "code",
   "execution_count": 9,
   "metadata": {},
   "outputs": [],
   "source": [
    "#part (d) plotting"
   ]
  },
  {
   "cell_type": "code",
   "execution_count": 10,
   "metadata": {},
   "outputs": [
    {
     "data": {
      "text/plain": [
       "<matplotlib.quiver.Quiver at 0x1b545accac8>"
      ]
     },
     "execution_count": 10,
     "metadata": {},
     "output_type": "execute_result"
    },
    {
     "data": {
      "image/png": "[encoded data removed]",
      "text/plain": [
       "<Figure size 432x288 with 1 Axes>"
      ]
     },
     "metadata": {
      "needs_background": "light"
     },
     "output_type": "display_data"
    }
   ],
   "source": [
    "plt.scatter(firstelems, secondelems)\n",
    "plt.xlim(left = -15, right = 15)\n",
    "plt.ylim(bottom = -15, top = 15)\n",
    "# Add the mean value to the plot\n",
    "plt.plot(meanr2[0], meanr2[1], marker='*', color='black', markersize=15)\n",
    "# Add arrows showing the eigenvectors\n",
    "plt.quiver([meanr2[0]]*2, [meanr2[1]]*2, eigenvectors[:,1], eigenvectors[:,0], zorder=11, width=0.01, scale=3.75)"
   ]
  },
  {
   "cell_type": "code",
   "execution_count": 11,
   "metadata": {},
   "outputs": [],
   "source": [
    "#part(e)"
   ]
  },
  {
   "cell_type": "code",
   "execution_count": 12,
   "metadata": {},
   "outputs": [
    {
     "data": {
      "text/plain": [
       "(-15, 15)"
      ]
     },
     "execution_count": 12,
     "metadata": {},
     "output_type": "execute_result"
    },
    {
     "data": {
      "image/png": "[encoded data removed]",
      "text/plain": [
       "<Figure size 432x288 with 1 Axes>"
      ]
     },
     "metadata": {
      "needs_background": "light"
     },
     "output_type": "display_data"
    }
   ],
   "source": [
    "ut = np.transpose(eigenvectors)\n",
    "\n",
    "constant_matrix = np.array([x - meanr2 for x in merged_x1_x2])\n",
    "\n",
    "x_rotated = np.transpose(ut @ np.transpose(constant_matrix))\n",
    "\n",
    "x_rotated_first = [x_rotated[i][0] for i in range(len(x_rotated))]\n",
    "x_rotated_second = [x_rotated[i][1] for i in range(len(x_rotated))]\n",
    "\n",
    "plt.scatter(x_rotated_first, x_rotated_second)\n",
    "plt.xlim(-15, 15)\n",
    "plt.ylim(-15, 15)"
   ]
  },
  {
   "cell_type": "code",
   "execution_count": null,
   "metadata": {},
   "outputs": [],
   "source": []
  }
 ],
 "metadata": {
  "kernelspec": {
   "display_name": "Python 3",
   "language": "python",
   "name": "python3"
  },
  "language_info": {
   "codemirror_mode": {
    "name": "ipython",
    "version": 3
   },
   "file_extension": ".py",
   "mimetype": "text/x-python",
   "name": "python",
   "nbconvert_exporter": "python",
   "pygments_lexer": "ipython3",
   "version": "3.6.7"
  }
 },
 "nbformat": 4,
 "nbformat_minor": 2
}

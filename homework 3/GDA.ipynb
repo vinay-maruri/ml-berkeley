{
 "cells": [
  {
   "cell_type": "code",
   "execution_count": 1,
   "metadata": {},
   "outputs": [
    {
     "name": "stdout",
     "output_type": "stream",
     "text": [
      "\n",
      "loaded spam data!\n",
      "test_data (5857, 32)\n",
      "training_data (5172, 32)\n",
      "training_labels (5172, 1)\n"
     ]
    }
   ],
   "source": [
    "import sys \n",
    "if sys.version_info[0] < 3: \n",
    "    raise Exception(\"Python 3 not detected.\")\n",
    "import numpy as np \n",
    "import matplotlib.pyplot as plt \n",
    "from scipy import io\n",
    "for data_name in [\"spam\"]: \n",
    "    spam_data = io.loadmat(\"spam-data/%s_data.mat\" % data_name) \n",
    "    print(\"\\nloaded %s data!\" % data_name) \n",
    "    fields = \"test_data\", \"training_data\", \"training_labels\" \n",
    "    for field in fields: \n",
    "        print(field, spam_data[field].shape)"
   ]
  },
  {
   "cell_type": "code",
   "execution_count": 2,
   "metadata": {},
   "outputs": [
    {
     "name": "stdout",
     "output_type": "stream",
     "text": [
      "\n",
      "loaded mnist data!\n",
      "test_data (10000, 784)\n",
      "training_data (60000, 784)\n",
      "training_labels (60000, 1)\n"
     ]
    }
   ],
   "source": [
    "for data_name in [\"mnist\"]: \n",
    "    mnist_data = io.loadmat(\"mnist-data/%s_data.mat\" % data_name) \n",
    "    print(\"\\nloaded %s data!\" % data_name) \n",
    "    fields = \"test_data\", \"training_data\", \"training_labels\" \n",
    "    for field in fields: \n",
    "        print(field, mnist_data[field].shape)"
   ]
  },
  {
   "cell_type": "code",
   "execution_count": 3,
   "metadata": {},
   "outputs": [],
   "source": [
    "#part (a)"
   ]
  },
  {
   "cell_type": "code",
   "execution_count": 4,
   "metadata": {},
   "outputs": [
    {
     "data": {
      "text/plain": [
       "{'__header__': b'MATLAB 5.0 MAT-file Platform: posix, Created on: Wed Feb 13 17:30:33 2019',\n",
       " '__version__': '1.0',\n",
       " '__globals__': [],\n",
       " 'training_data': array([[0, 0, 0, ..., 0, 0, 0],\n",
       "        [0, 0, 0, ..., 0, 0, 0],\n",
       "        [0, 0, 0, ..., 0, 0, 0],\n",
       "        ...,\n",
       "        [0, 0, 0, ..., 0, 0, 0],\n",
       "        [0, 0, 0, ..., 0, 0, 0],\n",
       "        [0, 0, 0, ..., 0, 0, 0]], dtype=uint8),\n",
       " 'training_labels': array([[8],\n",
       "        [2],\n",
       "        [7],\n",
       "        ...,\n",
       "        [3],\n",
       "        [6],\n",
       "        [0]], dtype=uint8),\n",
       " 'test_data': array([[0, 0, 0, ..., 0, 0, 0],\n",
       "        [0, 0, 0, ..., 0, 0, 0],\n",
       "        [0, 0, 0, ..., 0, 0, 0],\n",
       "        ...,\n",
       "        [0, 0, 0, ..., 0, 0, 0],\n",
       "        [0, 0, 0, ..., 0, 0, 0],\n",
       "        [0, 0, 0, ..., 0, 0, 0]], dtype=uint8)}"
      ]
     },
     "execution_count": 4,
     "metadata": {},
     "output_type": "execute_result"
    }
   ],
   "source": [
    "mnist_data"
   ]
  },
  {
   "cell_type": "code",
   "execution_count": 5,
   "metadata": {},
   "outputs": [
    {
     "data": {
      "text/plain": [
       "{'__header__': b'MATLAB 5.0 MAT-file Platform: posix, Created on: Sun Jan  6 19:03:17 2019',\n",
       " '__version__': '1.0',\n",
       " '__globals__': [],\n",
       " 'training_data': array([[0., 2., 0., ..., 9., 1., 0.],\n",
       "        [0., 0., 0., ..., 0., 0., 0.],\n",
       "        [0., 0., 0., ..., 3., 0., 0.],\n",
       "        ...,\n",
       "        [0., 0., 0., ..., 0., 0., 0.],\n",
       "        [0., 0., 0., ..., 0., 0., 0.],\n",
       "        [0., 0., 0., ..., 0., 0., 0.]]),\n",
       " 'training_labels': array([[1],\n",
       "        [1],\n",
       "        [1],\n",
       "        ...,\n",
       "        [0],\n",
       "        [0],\n",
       "        [0]], dtype=int64),\n",
       " 'test_data': array([[0., 0., 0., ..., 0., 0., 0.],\n",
       "        [0., 0., 0., ..., 0., 0., 0.],\n",
       "        [0., 0., 0., ..., 0., 0., 0.],\n",
       "        ...,\n",
       "        [0., 0., 0., ..., 0., 0., 0.],\n",
       "        [0., 0., 0., ..., 0., 0., 0.],\n",
       "        [0., 0., 0., ..., 3., 0., 0.]])}"
      ]
     },
     "execution_count": 5,
     "metadata": {},
     "output_type": "execute_result"
    }
   ],
   "source": [
    "spam_data"
   ]
  },
  {
   "cell_type": "code",
   "execution_count": 6,
   "metadata": {},
   "outputs": [],
   "source": [
    "mtrain = mnist_data['training_data']"
   ]
  },
  {
   "cell_type": "code",
   "execution_count": 8,
   "metadata": {},
   "outputs": [],
   "source": [
    "#part (a) asks us to fit a Gaussian distribution to each digit class. "
   ]
  },
  {
   "cell_type": "code",
   "execution_count": 9,
   "metadata": {},
   "outputs": [],
   "source": [
    "maverage = np.mean(mtrain)\n",
    "mtrain = mtrain - maverage\n",
    "contrast = np.sqrt(10 + np.mean(mtrain**2))\n",
    "mtrain = mtrain / max(contrast, 0.000000001)\n",
    "#attempt at contrast normalization before using pixel values.\n",
    "#external source used: \n",
    "#https://datascience.stackexchange.com/questions/15110/how-to-implement-global-contrast-normalization-in-python?rq=1"
   ]
  },
  {
   "cell_type": "code",
   "execution_count": 10,
   "metadata": {},
   "outputs": [],
   "source": [
    "#we will compute a mean and covariance matrix for each digit class"
   ]
  },
  {
   "cell_type": "code",
   "execution_count": 11,
   "metadata": {
    "scrolled": true
   },
   "outputs": [],
   "source": [
    "uniques = np.unique(mnist_data['training_labels'])"
   ]
  },
  {
   "cell_type": "code",
   "execution_count": 12,
   "metadata": {},
   "outputs": [
    {
     "data": {
      "text/plain": [
       "array([0, 1, 2, 3, 4, 5, 6, 7, 8, 9], dtype=uint8)"
      ]
     },
     "execution_count": 12,
     "metadata": {},
     "output_type": "execute_result"
    }
   ],
   "source": [
    "uniques"
   ]
  },
  {
   "cell_type": "code",
   "execution_count": 13,
   "metadata": {},
   "outputs": [],
   "source": [
    "indexlst = []\n",
    "for i in uniques: \n",
    "    templst = [x for x in range(len(mnist_data['training_labels'])) if mnist_data['training_labels'][x] == i]\n",
    "    indexlst.append(templst)\n",
    "#building a list of lists of indices to map the training points to their corresponding digit class."
   ]
  },
  {
   "cell_type": "code",
   "execution_count": 14,
   "metadata": {},
   "outputs": [],
   "source": [
    "from scipy.stats import multivariate_normal\n",
    "matrix_of_cov_matrices = []\n",
    "matrix_of_means = []\n",
    "gaussians = []\n",
    "for i in indexlst:\n",
    "    mcov = np.cov(mtrain[i], bias = True, rowvar = False)\n",
    "    for j in range(len(mcov)):\n",
    "        mcov[j][j] += 0.1\n",
    "    #computes the covariance matrix for each digit class.\n",
    "    #uses the trick from question 6b to solve the singular covariance matrix problem.\n",
    "    m_mean = np.mean(mtrain[i], axis = 0)\n",
    "    matrix_of_cov_matrices.append(mcov)\n",
    "    matrix_of_means.append(m_mean)\n",
    "    #computes the mean for each digit class.\n",
    "    digit_gaussian = multivariate_normal(m_mean, mcov)\n",
    "    gaussians.append(digit_gaussian)\n",
    "    #fitting the gaussian distribution to each digit class."
   ]
  },
  {
   "cell_type": "code",
   "execution_count": 15,
   "metadata": {},
   "outputs": [],
   "source": [
    "#part (b)---Visualize the covariance matrix for a particular class (digit). How do the\n",
    "#diagonal terms compare with the off-diagonal terms? What do you conclude from this?"
   ]
  },
  {
   "cell_type": "code",
   "execution_count": 16,
   "metadata": {
    "scrolled": true
   },
   "outputs": [
    {
     "data": {
      "text/plain": [
       "array([[ 1.        , -0.00127714, -0.00127714, ..., -0.00127714,\n",
       "        -0.00127714, -0.00127714],\n",
       "       [-0.00127714,  1.        , -0.00127714, ..., -0.00127714,\n",
       "        -0.00127714, -0.00127714],\n",
       "       [-0.00127714, -0.00127714,  1.        , ..., -0.00127714,\n",
       "        -0.00127714, -0.00127714],\n",
       "       ...,\n",
       "       [-0.00127714, -0.00127714, -0.00127714, ...,  1.        ,\n",
       "        -0.00127714, -0.00127714],\n",
       "       [-0.00127714, -0.00127714, -0.00127714, ..., -0.00127714,\n",
       "         1.        , -0.00127714],\n",
       "       [-0.00127714, -0.00127714, -0.00127714, ..., -0.00127714,\n",
       "        -0.00127714,  1.        ]])"
      ]
     },
     "execution_count": 16,
     "metadata": {},
     "output_type": "execute_result"
    }
   ],
   "source": [
    "np.corrcoef(matrix_of_cov_matrices[0])"
   ]
  },
  {
   "cell_type": "code",
   "execution_count": 17,
   "metadata": {},
   "outputs": [
    {
     "data": {
      "text/plain": [
       "237484"
      ]
     },
     "execution_count": 17,
     "metadata": {},
     "output_type": "execute_result"
    }
   ],
   "source": [
    "len(np.unique(np.corrcoef(matrix_of_cov_matrices[0])))"
   ]
  },
  {
   "cell_type": "markdown",
   "metadata": {},
   "source": [
    "It appears that the correlation coefficient matrix of the covariance matrix for the class 0 shows that the diagonal terms are equal to each other and that the diagonal terms are larger than the off-diagonal terms. I conclude from this that the diagonal entries are the correlation of a given feature with itself (hence why it's 1), and that the correlation between different features is generally strong and negative, but appears to increase as you move down and right in the matrix. "
   ]
  },
  {
   "cell_type": "code",
   "execution_count": 18,
   "metadata": {},
   "outputs": [],
   "source": [
    "#part(c): attempting LDA first."
   ]
  },
  {
   "cell_type": "code",
   "execution_count": 19,
   "metadata": {},
   "outputs": [],
   "source": [
    "avg_cov = np.zeros((784, 784))\n",
    "for i in range(len(matrix_of_cov_matrices)):\n",
    "    avg_cov = np.add(avg_cov, matrix_of_cov_matrices[i])\n",
    "#finding the average covariance matrix across the classes."
   ]
  },
  {
   "cell_type": "code",
   "execution_count": 20,
   "metadata": {},
   "outputs": [],
   "source": [
    "avg_cov = avg_cov/10"
   ]
  },
  {
   "cell_type": "code",
   "execution_count": 21,
   "metadata": {},
   "outputs": [
    {
     "data": {
      "text/plain": [
       "array([[1.00000000e-01, 4.70600828e-28, 4.70600828e-28, ...,\n",
       "        4.70600828e-28, 4.70600828e-28, 4.70600828e-28],\n",
       "       [4.70600828e-28, 1.00000000e-01, 4.70600828e-28, ...,\n",
       "        4.70600828e-28, 4.70600828e-28, 4.70600828e-28],\n",
       "       [4.70600828e-28, 4.70600828e-28, 1.00000000e-01, ...,\n",
       "        4.70600828e-28, 4.70600828e-28, 4.70600828e-28],\n",
       "       ...,\n",
       "       [4.70600828e-28, 4.70600828e-28, 4.70600828e-28, ...,\n",
       "        1.00000000e-01, 4.70600828e-28, 4.70600828e-28],\n",
       "       [4.70600828e-28, 4.70600828e-28, 4.70600828e-28, ...,\n",
       "        4.70600828e-28, 1.00000000e-01, 4.70600828e-28],\n",
       "       [4.70600828e-28, 4.70600828e-28, 4.70600828e-28, ...,\n",
       "        4.70600828e-28, 4.70600828e-28, 1.00000000e-01]])"
      ]
     },
     "execution_count": 21,
     "metadata": {},
     "output_type": "execute_result"
    }
   ],
   "source": [
    "avg_cov"
   ]
  },
  {
   "cell_type": "code",
   "execution_count": 37,
   "metadata": {},
   "outputs": [],
   "source": [
    "indices_to_choose = np.arange(len(mtrain))\n",
    "valid_indices = np.random.choice(indices_to_choose, 10000, replace = False)\n",
    "mvalid = mtrain[valid_indices]\n",
    "#creating the validation set of 10,000 randomly selected points\n",
    "t_indices = np.arange(60000)"
   ]
  },
  {
   "cell_type": "code",
   "execution_count": 38,
   "metadata": {},
   "outputs": [],
   "source": [
    "def diff(first, second):\n",
    "    second = set(second)\n",
    "    return [item for item in first if item not in second]\n",
    "valid_indices = diff(t_indices, valid_indices)\n",
    "#creating a list of valid indices in the training set (that are not in the validation set.)"
   ]
  },
  {
   "cell_type": "code",
   "execution_count": 36,
   "metadata": {},
   "outputs": [],
   "source": [
    "def loss_fn(labels1, labels2):\n",
    "    total_loss = 0\n",
    "    for i in range(len(labels1)):\n",
    "        if labels1[i] != labels2[i]:\n",
    "            total_loss += 1\n",
    "    return total_loss"
   ]
  },
  {
   "cell_type": "code",
   "execution_count": 44,
   "metadata": {},
   "outputs": [],
   "source": [
    "avg_digit_gaussians = []\n",
    "for mean in matrix_of_means:\n",
    "    avg_digit_gaussians.append(multivariate_normal(mean, avg_cov))\n",
    "#for lda, we keep covariance the same across classes----we thus compute new multivariate normals."
   ]
  },
  {
   "cell_type": "code",
   "execution_count": 57,
   "metadata": {},
   "outputs": [],
   "source": [
    "sizes = [100, 200, 500, 1000, 2000, 5000, 10000, 30000, 50000]\n",
    "training_losses = []\n",
    "valid_losses = []\n",
    "#training set sizes\n",
    "for size in sizes:\n",
    "    training_indices = np.random.choice(valid_indices, size, replace = False)\n",
    "    temp_training_set = mtrain[training_indices]\n",
    "    #getting the training set of size size.\n",
    "    predicted_labels = []\n",
    "    for point in temp_training_set:\n",
    "        temp_class_densities = []\n",
    "        for gaussian in avg_digit_gaussians:\n",
    "            temp_class_densities.append(gaussian.logpdf(point))\n",
    "        maximum = max(temp_class_densities)\n",
    "        predicted_labels.append(temp_class_densities.index(maximum))\n",
    "        #the assigned label is the class associated with the maximum density\n",
    "    true_labels = mnist_data['training_labels'][training_indices]\n",
    "    loss = loss_fn(predicted_labels, true_labels)\n",
    "    training_losses.append(loss)\n",
    "    predicted_vlabels = []\n",
    "    for point1 in mvalid: \n",
    "        temp_valid_class_densities = []\n",
    "        for gaussian in avg_digit_gaussians:\n",
    "            temp_valid_class_densities.append(gaussian.logpdf(point1))\n",
    "        maximum = max(temp_valid_class_densities)\n",
    "        predicted_vlabels.append(temp_valid_class_densities.index(maximum))\n",
    "    true_vlabels = mnist_data['training_labels'][valid_indices]\n",
    "    vloss = loss_fn(predicted_vlabels, true_vlabels)\n",
    "    valid_losses.append(vloss)\n",
    "#computing the validation set errors and     \n",
    "#computing the training set errors."
   ]
  },
  {
   "cell_type": "code",
   "execution_count": 58,
   "metadata": {
    "scrolled": true
   },
   "outputs": [
    {
     "data": {
      "text/plain": [
       "Text(0.5, 0, 'Training Set size')"
      ]
     },
     "execution_count": 58,
     "metadata": {},
     "output_type": "execute_result"
    },
    {
     "data": {
      "image/png": "[encoded data removed]",
      "text/plain": [
       "<Figure size 432x288 with 1 Axes>"
      ]
     },
     "metadata": {
      "needs_background": "light"
     },
     "output_type": "display_data"
    }
   ],
   "source": [
    "terror_rates = [training_losses[i]/sizes[i] for i in range(len(training_losses))]\n",
    "verror_rates = [valid_losses[i]/10000 for i in range(len(valid_losses))]\n",
    "plt.plot(sizes, terror_rates)\n",
    "plt.plot(sizes, verror_rates)\n",
    "plt.ylabel('Error Rate')\n",
    "plt.xlabel('Training Set size')\n",
    "#plotting the error rates against training_set size."
   ]
  },
  {
   "cell_type": "code",
   "execution_count": 56,
   "metadata": {},
   "outputs": [],
   "source": [
    "#now for qda, covariance is allowed to vary across classes, so we use the gaussians from part (a)\n",
    "#the gaussians variable."
   ]
  },
  {
   "cell_type": "code",
   "execution_count": 59,
   "metadata": {},
   "outputs": [],
   "source": [
    "sizes = [100, 200, 500, 1000, 2000, 5000, 10000, 30000, 50000]\n",
    "qtraining_losses = []\n",
    "qvalid_losses = []\n",
    "#training set sizes\n",
    "for size in sizes:\n",
    "    training_indices = np.random.choice(valid_indices, size, replace = False)\n",
    "    temp_training_set = mtrain[training_indices]\n",
    "    #getting the training set of size size.\n",
    "    predicted_labels = []\n",
    "    for point in temp_training_set:\n",
    "        temp_class_densities = []\n",
    "        for gaussian in gaussians:\n",
    "            temp_class_densities.append(gaussian.logpdf(point))\n",
    "        maximum = max(temp_class_densities)\n",
    "        predicted_labels.append(temp_class_densities.index(maximum))\n",
    "        #the assigned label is the class associated with the maximum density\n",
    "    true_labels = mnist_data['training_labels'][training_indices]\n",
    "    loss = loss_fn(predicted_labels, true_labels)\n",
    "    qtraining_losses.append(loss)\n",
    "    predicted_vlabels = []\n",
    "    for point1 in mvalid: \n",
    "        temp_valid_class_densities = []\n",
    "        for gaussian in gaussians:\n",
    "            temp_valid_class_densities.append(gaussian.logpdf(point1))\n",
    "        maximum = max(temp_valid_class_densities)\n",
    "        predicted_vlabels.append(temp_valid_class_densities.index(maximum))\n",
    "    true_vlabels = mnist_data['training_labels'][valid_indices]\n",
    "    vloss = loss_fn(predicted_vlabels, true_vlabels)\n",
    "    qvalid_losses.append(vloss)\n",
    "#computing the validation set errors and     \n",
    "#computing the training set errors."
   ]
  },
  {
   "cell_type": "code",
   "execution_count": 60,
   "metadata": {},
   "outputs": [
    {
     "data": {
      "text/plain": [
       "Text(0.5, 0, 'Training Set size')"
      ]
     },
     "execution_count": 60,
     "metadata": {},
     "output_type": "execute_result"
    },
    {
     "data": {
      "image/png": "[encoded data removed]",
      "text/plain": [
       "<Figure size 432x288 with 1 Axes>"
      ]
     },
     "metadata": {
      "needs_background": "light"
     },
     "output_type": "display_data"
    }
   ],
   "source": [
    "qterror_rates = [qtraining_losses[i]/sizes[i] for i in range(len(qtraining_losses))]\n",
    "qverror_rates = [qvalid_losses[i]/10000 for i in range(len(qvalid_losses))]\n",
    "plt.plot(sizes, qterror_rates)\n",
    "plt.plot(sizes, qverror_rates)\n",
    "plt.ylabel('Error Rate')\n",
    "plt.xlabel('Training Set size')\n",
    "#plotting the error rates against training_set size."
   ]
  },
  {
   "cell_type": "code",
   "execution_count": 64,
   "metadata": {},
   "outputs": [],
   "source": [
    "#part(4) kaggle submission\n",
    "#choosing to use QDA since lower error rates in training.\n",
    "from save_csv import results_to_csv\n",
    "mtest = mnist_data['test_data']\n",
    "kaggle_labels = []\n",
    "for point in mtest:\n",
    "    kaggle_temp_class_densities = []\n",
    "    for gaussian in gaussians:\n",
    "        kaggle_temp_class_densities.append(gaussian.logpdf(point))\n",
    "    maximum = max(kaggle_temp_class_densities)\n",
    "    kaggle_labels.append(kaggle_temp_class_densities.index(maximum))\n",
    "results_to_csv(np.array(kaggle_labels))"
   ]
  },
  {
   "cell_type": "code",
   "execution_count": 91,
   "metadata": {},
   "outputs": [
    {
     "data": {
      "text/plain": [
       "Text(0.5, 0, 'Training Set size')"
      ]
     },
     "execution_count": 91,
     "metadata": {},
     "output_type": "execute_result"
    },
    {
     "data": {
      "image/png": "[encoded data removed]",
      "text/plain": [
       "<Figure size 432x288 with 1 Axes>"
      ]
     },
     "metadata": {
      "needs_background": "light"
     },
     "output_type": "display_data"
    }
   ],
   "source": [
    "#part (d): I will use LDA for spam.\n",
    "spam_train = spam_data['training_data']\n",
    "spam_labels = spam_data['training_labels']\n",
    "spam_test = spam_data['test_data']\n",
    "\n",
    "uniques = np.unique(spam_labels)\n",
    "indexlst = []\n",
    "for i in uniques: \n",
    "    templst = [x for x in range(len(spam_labels)) if spam_labels[x] == i]\n",
    "    indexlst.append(templst)\n",
    "#building a list of lists of indices to map the training points to their corresponding digit class.\n",
    "smatrix_of_cov_matrices = []\n",
    "smatrix_of_means = []\n",
    "sgaussians = []\n",
    "\n",
    "for i in indexlst:\n",
    "    scov = np.cov(spam_train[i], bias = True, rowvar = False)\n",
    "    for j in range(len(scov)):\n",
    "        scov[j][j] += 0.1\n",
    "    #computes the covariance matrix for each digit class.\n",
    "    #uses the trick from question 6b to solve the singular covariance matrix problem.\n",
    "    s_mean = np.mean(spam_train[i], axis = 0)\n",
    "    smatrix_of_cov_matrices.append(scov)\n",
    "    smatrix_of_means.append(s_mean)\n",
    "    #computes the mean for each digit class.\n",
    "    digit_gaussian = multivariate_normal(s_mean, scov)\n",
    "    sgaussians.append(digit_gaussian)\n",
    "    #fitting the gaussian distribution to each digit class.\n",
    "avg_cov = np.zeros((32, 32))\n",
    "for i in range(len(smatrix_of_cov_matrices)):\n",
    "    avg_cov = np.add(avg_cov, smatrix_of_cov_matrices[i])\n",
    "#finding the average covariance matrix across the classes.\n",
    "avg_cov = avg_cov/2\n",
    "spam_gaussians = []\n",
    "for mean in smatrix_of_means:\n",
    "    spam_gaussians.append(multivariate_normal(mean, avg_cov))\n",
    "#for lda, we keep covariance the same across classes----we thus compute new multivariate normals.\n",
    "sgaussians = spam_gaussians\n",
    "sizes = [100, 200, 500, 1000, 2000]\n",
    "qtraining_losses = []\n",
    "qvalid_losses = []\n",
    "indices_to_choose = np.arange(len(spam_train))\n",
    "valid_indices = np.random.choice(indices_to_choose, 1000, replace = False)\n",
    "spam_valid = spam_train[valid_indices]\n",
    "#creating the validation set of 10,000 randomly selected points\n",
    "t_indices = np.arange(5172)\n",
    "valid_indices = diff(t_indices, valid_indices)\n",
    "#training set sizes\n",
    "for size in sizes:\n",
    "    training_indices = np.random.choice(valid_indices, size, replace = False)\n",
    "    temp_training_set = spam_train[training_indices]\n",
    "    #getting the training set of size size.\n",
    "    predicted_labels = []\n",
    "    for point in temp_training_set:\n",
    "        temp_class_densities = []\n",
    "        for gaussian in sgaussians:\n",
    "            temp_class_densities.append(gaussian.logpdf(point))\n",
    "        maximum = max(temp_class_densities)\n",
    "        predicted_labels.append(temp_class_densities.index(maximum))\n",
    "        #the assigned label is the class associated with the maximum density\n",
    "    true_labels = spam_labels[training_indices]\n",
    "    loss = loss_fn(predicted_labels, true_labels)\n",
    "    qtraining_losses.append(loss)\n",
    "    predicted_vlabels = []\n",
    "    for point1 in spam_valid: \n",
    "        temp_valid_class_densities = []\n",
    "        for gaussian in sgaussians:\n",
    "            temp_valid_class_densities.append(gaussian.logpdf(point1))\n",
    "        maximum = max(temp_valid_class_densities)\n",
    "        predicted_vlabels.append(temp_valid_class_densities.index(maximum))\n",
    "    true_vlabels = spam_labels[valid_indices]\n",
    "    vloss = loss_fn(predicted_vlabels, true_vlabels)\n",
    "    qvalid_losses.append(vloss)\n",
    "\n",
    "qterror_rates = [qtraining_losses[i]/sizes[i] for i in range(len(qtraining_losses))]\n",
    "qverror_rates = [qvalid_losses[i]/10000 for i in range(len(qvalid_losses))]\n",
    "plt.plot(sizes, qterror_rates)\n",
    "plt.plot(sizes, qverror_rates)\n",
    "plt.ylabel('Error Rate')\n",
    "plt.xlabel('Training Set size')"
   ]
  },
  {
   "cell_type": "code",
   "execution_count": 92,
   "metadata": {},
   "outputs": [],
   "source": [
    "#plotting the error rates against training_set size.\n",
    "kaggle_labels = []\n",
    "for point in spam_test:\n",
    "    kaggle_temp_class_densities = []\n",
    "    for gaussian in sgaussians:\n",
    "        kaggle_temp_class_densities.append(gaussian.logpdf(point))\n",
    "    maximum = max(kaggle_temp_class_densities)\n",
    "    kaggle_labels.append(kaggle_temp_class_densities.index(maximum))\n",
    "results_to_csv(np.array(kaggle_labels))"
   ]
  },
  {
   "cell_type": "code",
   "execution_count": null,
   "metadata": {},
   "outputs": [],
   "source": []
  }
 ],
 "metadata": {
  "kernelspec": {
   "display_name": "Python 3",
   "language": "python",
   "name": "python3"
  },
  "language_info": {
   "codemirror_mode": {
    "name": "ipython",
    "version": 3
   },
   "file_extension": ".py",
   "mimetype": "text/x-python",
   "name": "python",
   "nbconvert_exporter": "python",
   "pygments_lexer": "ipython3",
   "version": "3.6.7"
  }
 },
 "nbformat": 4,
 "nbformat_minor": 2
}
